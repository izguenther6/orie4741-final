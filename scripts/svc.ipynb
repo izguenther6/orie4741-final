{
 "cells": [
  {
   "cell_type": "markdown",
   "metadata": {},
   "source": [
    "# **SUPPORT VECTOR CLASSIFIER**\n",
    "\n",
    "this script is for setup, execution, and evaluation of the support vector classifier algorithm"
   ]
  }
 ],
 "metadata": {
  "language_info": {
   "name": "python"
  }
 },
 "nbformat": 4,
 "nbformat_minor": 2
}
