{
 "cells": [
  {
   "cell_type": "markdown",
   "metadata": {},
   "source": [
    "# **SUPPORT VECTOR CLASSIFIER**\n",
    "\n",
    "this script is for setup, execution, and evaluation of the support vector classifier algorithm"
   ]
  },
  {
   "cell_type": "code",
   "execution_count": 2,
   "metadata": {},
   "outputs": [],
   "source": [
    "%load_ext autoreload\n",
    "%autoreload 2\n",
    "import pandas as pd\n",
    "import numpy as np\n",
    "import funcs as f\n",
    "from sklearn.svm import SVC"
   ]
  },
  {
   "cell_type": "code",
   "execution_count": 3,
   "metadata": {},
   "outputs": [],
   "source": [
    "'''\n",
    "Set clf, import data from data_organization.ipynb, and set random seed\n",
    "'''\n",
    "clf = SVC(kernel='poly', C=.1, gamma=10)\n",
    "\n",
    "df_all = pd.read_csv('../data/df_all.csv').drop('Unnamed: 0', axis = 1)\n",
    "df_gus = pd.read_csv('../data/df_gus.csv').drop('Unnamed: 0', axis = 1)\n",
    "df_tgus = pd.read_csv('../data/df_tgus.csv').drop('Unnamed: 0', axis = 1)\n",
    "df_tgus_st = pd.read_csv('../data/df_tgus*.csv').drop('Unnamed: 0', axis = 1)\n",
    "df_raw = pd.read_csv('../data/df_raw.csv').drop('Unnamed: 0', axis = 1)\n",
    "\n",
    "np.random.seed(8)"
   ]
  },
  {
   "cell_type": "code",
   "execution_count": 60,
   "metadata": {},
   "outputs": [
    {
     "name": "stdout",
     "output_type": "stream",
     "text": [
      "All - Results:\n",
      "Best Training Accuracy: 100.0%\n",
      "Best Validation Accuracy: 98.6%\n",
      "Test Accuracy: 99.1%\n",
      "\n"
     ]
    }
   ],
   "source": [
    "'''\n",
    "Considering GUS, TGUS,  TGUS*, and raw values with other features\n",
    "\n",
    "'''\n",
    "\n",
    "all_model, all_train_acc, all_val_acc, all_test_acc = f.kfold_crossval(df_all, clf, 'svc')\n",
    "\n",
    "print('All - Results:')\n",
    "print(f'Best Training Accuracy: {all_train_acc}%')\n",
    "print(f'Best Validation Accuracy: {all_val_acc}%')\n",
    "print(f'Test Accuracy: {all_test_acc}%\\n')"
   ]
  },
  {
   "cell_type": "code",
   "execution_count": 30,
   "metadata": {},
   "outputs": [
    {
     "name": "stdout",
     "output_type": "stream",
     "text": [
      "GUS - Results:\n",
      "Best Training Accuracy: 100.0%\n",
      "Best Validation Accuracy: 98.6%\n",
      "Test Accuracy: 97.2%\n",
      "\n"
     ]
    }
   ],
   "source": [
    "'''\n",
    "Considering just GUS and raw values with other features\n",
    "\n",
    "'''\n",
    "\n",
    "gus_model, gus_train_acc, gus_val_acc, gus_test_acc = f.kfold_crossval(df_gus, clf, 'svc')\n",
    "\n",
    "print('GUS - Results:')\n",
    "print(f'Best Training Accuracy: {gus_train_acc}%')\n",
    "print(f'Best Validation Accuracy: {gus_val_acc}%')\n",
    "print(f'Test Accuracy: {gus_test_acc}%\\n')"
   ]
  },
  {
   "cell_type": "code",
   "execution_count": 263,
   "metadata": {},
   "outputs": [
    {
     "name": "stdout",
     "output_type": "stream",
     "text": [
      "TGUS - Results:\n",
      "Best Training Accuracy: 98.0%\n",
      "Best Validation Accuracy: 100.0%\n",
      "Test Accuracy: 100.0%\n",
      "\n"
     ]
    }
   ],
   "source": [
    "'''\n",
    "Considering just TGUS and raw values with other features\n",
    "\n",
    "'''\n",
    "\n",
    "tgus_model, tgus_train_acc, tgus_val_acc, tgus_test_acc = f.kfold_crossval(df_tgus, clf, 'svc')\n",
    "\n",
    "print('TGUS - Results:')\n",
    "print(f'Best Training Accuracy: {tgus_train_acc}%')\n",
    "print(f'Best Validation Accuracy: {tgus_val_acc}%')\n",
    "print(f'Test Accuracy: {tgus_test_acc}%\\n')"
   ]
  },
  {
   "cell_type": "code",
   "execution_count": 280,
   "metadata": {},
   "outputs": [
    {
     "name": "stdout",
     "output_type": "stream",
     "text": [
      "TGUS* - Results:\n",
      "Best Training Accuracy: 98.0%\n",
      "Best Validation Accuracy: 100.0%\n",
      "Test Accuracy: 99.1%\n",
      "\n"
     ]
    }
   ],
   "source": [
    "'''\n",
    "Considering just TGUS* and raw values with other features\n",
    "\n",
    "'''\n",
    "\n",
    "st_tgus_model, st_tgus_train_acc, st_tgus_val_acc, st_tgus_test_acc = f.kfold_crossval(df_tgus_st, clf, 'svc')\n",
    "\n",
    "print('TGUS* - Results:')\n",
    "print(f'Best Training Accuracy: {st_tgus_train_acc}%')\n",
    "print(f'Best Validation Accuracy: {st_tgus_val_acc}%')\n",
    "print(f'Test Accuracy: {st_tgus_test_acc}%\\n')"
   ]
  },
  {
   "cell_type": "code",
   "execution_count": 302,
   "metadata": {},
   "outputs": [
    {
     "name": "stdout",
     "output_type": "stream",
     "text": [
      "Raw - Results:\n",
      "Best Training Accuracy: 99.0%\n",
      "Best Validation Accuracy: 100.0%\n",
      "Test Accuracy: 98.1%\n",
      "\n"
     ]
    }
   ],
   "source": [
    "'''\n",
    "Considering just GUS and raw values with other features\n",
    "\n",
    "'''\n",
    "\n",
    "raw_model, raw_train_acc, raw_val_acc, raw_test_acc = f.kfold_crossval(df_raw, clf, 'svc')\n",
    "\n",
    "print('Raw - Results:')\n",
    "print(f'Best Training Accuracy: {raw_train_acc}%')\n",
    "print(f'Best Validation Accuracy: {raw_val_acc}%')\n",
    "print(f'Test Accuracy: {raw_test_acc}%\\n')"
   ]
  }
 ],
 "metadata": {
  "kernelspec": {
   "display_name": "base",
   "language": "python",
   "name": "python3"
  },
  "language_info": {
   "codemirror_mode": {
    "name": "ipython",
    "version": 3
   },
   "file_extension": ".py",
   "mimetype": "text/x-python",
   "name": "python",
   "nbconvert_exporter": "python",
   "pygments_lexer": "ipython3",
   "version": "3.9.13"
  }
 },
 "nbformat": 4,
 "nbformat_minor": 2
}
