{
 "cells": [
  {
   "cell_type": "markdown",
   "metadata": {},
   "source": [
    "# **TREES**\n",
    "\n",
    "this script is for setup, execution, and analysis of the different algorithms that use decision trees"
   ]
  },
  {
   "cell_type": "code",
   "execution_count": 2,
   "metadata": {},
   "outputs": [],
   "source": [
    "%load_ext autoreload\n",
    "%autoreload 2\n",
    "import pandas as pd\n",
    "import numpy as np\n",
    "import funcs as f\n",
    "import matplotlib.pyplot as plt\n",
    "import seaborn as sns"
   ]
  },
  {
   "cell_type": "code",
   "execution_count": 3,
   "metadata": {},
   "outputs": [],
   "source": [
    "'''\n",
    "Import data from data_organization.ipynb and set random seed\n",
    "\n",
    "'''\n",
    "\n",
    "df_all = pd.read_csv('../data/df_all.csv').drop('Unnamed: 0', axis = 1)\n",
    "df_gus = pd.read_csv('../data/df_gus.csv').drop('Unnamed: 0', axis = 1)\n",
    "df_tgus = pd.read_csv('../data/df_tgus.csv').drop('Unnamed: 0', axis = 1)\n",
    "df_tgus_st = pd.read_csv('../data/df_tgus*.csv').drop('Unnamed: 0', axis = 1)\n",
    "df_raw = pd.read_csv('../data/df_raw.csv').drop('Unnamed: 0', axis = 1)\n",
    "\n",
    "np.random.seed(8)"
   ]
  },
  {
   "cell_type": "markdown",
   "metadata": {},
   "source": [
    "## **bagging**\n"
   ]
  },
  {
   "cell_type": "code",
   "execution_count": 47,
   "metadata": {},
   "outputs": [],
   "source": [
    "from sklearn.ensemble import ExtraTreesClassifier\n",
    "from sklearn.tree import DecisionTreeClassifier\n",
    "from sklearn.ensemble import BaggingClassifier\n",
    "from sklearn.model_selection import cross_val_score\n",
    "\n",
    "# Random trees are usually used just in ensemble methods\n",
    "# so we have to manually specify we only want one to start\n",
    "#random_tree = ExtraTreesClassifier(n_estimators = 1, bootstrap=True)\n",
    "random_tree = DecisionTreeClassifier()\n",
    "# Bagging based on random trees, here we aggregate 10 random trees\n",
    "clf = BaggingClassifier(base_estimator = random_tree,\n",
    "                                        n_estimators = 100, bootstrap = True\n",
    "                                       )"
   ]
  },
  {
   "cell_type": "code",
   "execution_count": 50,
   "metadata": {},
   "outputs": [
    {
     "name": "stdout",
     "output_type": "stream",
     "text": [
      "All - Results:\n",
      "Best Training Accuracy: 100.0%\n",
      "Best Validation Accuracy: 98.6%\n",
      "Test Accuracy: 100.0%\n",
      "\n"
     ]
    }
   ],
   "source": [
    "'''\n",
    "Considering GUS, TGUS,  TGUS*, and raw values with other features\n",
    "\n",
    "'''\n",
    "\n",
    "all_model, all_train_acc, all_val_acc, all_test_acc = f.kfold_crossval(df_all, clf, 'bagging')\n",
    "\n",
    "print('All - Results:')\n",
    "print(f'Best Training Accuracy: {all_train_acc}%')\n",
    "print(f'Best Validation Accuracy: {all_val_acc}%')\n",
    "print(f'Test Accuracy: {all_test_acc}%\\n')"
   ]
  },
  {
   "cell_type": "code",
   "execution_count": 77,
   "metadata": {},
   "outputs": [],
   "source": [
    "#set train and test data\n",
    "df_all=df_all.sample(frac=1) \n",
    "train_proportion = 0.8 \n",
    "n = len(df_all)\n",
    "t = int(train_proportion * n)\n",
    "\n",
    "# separate training and test sets\n",
    "y = df_all['detected']\n",
    "X = df_all.loc[:, ~df_all.columns.isin(['detected'])]\n",
    "\n",
    "#features in training set\n",
    "train_x = X.iloc[:t,:].reset_index().iloc[:,1:]\n",
    "#features in test set\n",
    "test_x = X.iloc[t:,:].reset_index().iloc[:,1:]\n",
    "#targets in train set\n",
    "train_y = pd.Series(y[:t].reset_index().iloc[:,1:].iloc[:,0])\n",
    "#targets in test set\n",
    "test_y = pd.Series(y[t:].reset_index().iloc[:,1:].iloc[:,0])"
   ]
  },
  {
   "cell_type": "code",
   "execution_count": 22,
   "metadata": {},
   "outputs": [
    {
     "data": {
      "text/plain": [
       "0.9881623071763918"
      ]
     },
     "execution_count": 22,
     "metadata": {},
     "output_type": "execute_result"
    }
   ],
   "source": [
    "cross_val_score(bagged_random_trees, X, y,\n",
    "                scoring=\"accuracy\", \n",
    "                cv=8).mean()\n",
    "\n",
    "bagged_random_trees = BaggingClassifier(base_estimator = random_tree,\n",
    "                                        n_estimators = 100, bootstrap=True\n",
    "                                       )\n",
    "\n",
    "cross_val_score(bagged_random_trees, train_x, train_y,\n",
    "                scoring=\"accuracy\", \n",
    "                cv=6).mean()"
   ]
  },
  {
   "cell_type": "code",
   "execution_count": 33,
   "metadata": {},
   "outputs": [
    {
     "ename": "AttributeError",
     "evalue": "'BaggingClassifier' object has no attribute 'get_depth'",
     "output_type": "error",
     "traceback": [
      "\u001b[0;31m---------------------------------------------------------------------------\u001b[0m",
      "\u001b[0;31mAttributeError\u001b[0m                            Traceback (most recent call last)",
      "\u001b[0;32m/var/folders/31/n7d1lkjj6y1_lcp76m8nrtbh0000gn/T/ipykernel_64495/512237476.py\u001b[0m in \u001b[0;36m<module>\u001b[0;34m\u001b[0m\n\u001b[1;32m      1\u001b[0m \u001b[0;34m\"\"\"NEED TO ACTUALLY FIT(XY) !!!!!!!\"\"\"\u001b[0m\u001b[0;34m\u001b[0m\u001b[0;34m\u001b[0m\u001b[0m\n\u001b[1;32m      2\u001b[0m \u001b[0mclf\u001b[0m\u001b[0;34m.\u001b[0m\u001b[0mfit\u001b[0m\u001b[0;34m(\u001b[0m\u001b[0mtrain_x\u001b[0m\u001b[0;34m,\u001b[0m\u001b[0mtrain_y\u001b[0m\u001b[0;34m)\u001b[0m\u001b[0;34m\u001b[0m\u001b[0;34m\u001b[0m\u001b[0m\n\u001b[0;32m----> 3\u001b[0;31m \u001b[0mclf\u001b[0m\u001b[0;34m.\u001b[0m\u001b[0mget_depth\u001b[0m\u001b[0;34m(\u001b[0m\u001b[0;34m)\u001b[0m\u001b[0;34m\u001b[0m\u001b[0;34m\u001b[0m\u001b[0m\n\u001b[0m",
      "\u001b[0;31mAttributeError\u001b[0m: 'BaggingClassifier' object has no attribute 'get_depth'"
     ]
    }
   ],
   "source": [
    "\"\"\"NEED TO ACTUALLY FIT(XY) !!!!!!!\"\"\"\n",
    "clf.fit(train_x,train_y)\n",
    "clf.get_depth()"
   ]
  },
  {
   "cell_type": "code",
   "execution_count": 67,
   "metadata": {},
   "outputs": [
    {
     "data": {
      "text/plain": [
       "6"
      ]
     },
     "execution_count": 67,
     "metadata": {},
     "output_type": "execute_result"
    }
   ],
   "source": [
    "\n",
    "random_tree.fit(X,y)\n",
    "random_tree.get_depth()\n",
    "#print(random_tree.feature_importances_)\n",
    "\n"
   ]
  },
  {
   "cell_type": "code",
   "execution_count": 78,
   "metadata": {},
   "outputs": [],
   "source": [
    "# So let's test a range of depths from 2:6 using a for loop\n",
    "\n",
    "depths = np.arange(2,7) # define the depths\n",
    "results = [] # create an empty data frame for our results\n",
    "\n",
    "for depth in depths:\n",
    "    best_depth_tree = DecisionTreeClassifier(max_depth = depth) # creating an instance of a decision tree\n",
    "    results.append(cross_val_score(best_depth_tree, train_x, \n",
    "                                   train_y, scoring=\"accuracy\", # getting the cv accuracy metric for the tree at each depth\n",
    "                cv=6).mean())"
   ]
  },
  {
   "cell_type": "code",
   "execution_count": 80,
   "metadata": {},
   "outputs": [
    {
     "data": {
      "text/plain": [
       "[<matplotlib.lines.Line2D at 0x7f972d025580>]"
      ]
     },
     "execution_count": 80,
     "metadata": {},
     "output_type": "execute_result"
    },
    {
     "data": {
      "image/png": "[encoded data removed]",
      "text/plain": [
       "<Figure size 640x480 with 1 Axes>"
      ]
     },
     "metadata": {},
     "output_type": "display_data"
    }
   ],
   "source": [
    "test = pd.DataFrame({'depths':depths, 'mean_roc_auc':results})\n",
    "test.sort_values(\"mean_roc_auc\", ascending=False)\n",
    "plt.plot(test.depths, test.mean_roc_auc)"
   ]
  }
 ],
 "metadata": {
  "kernelspec": {
   "display_name": "base",
   "language": "python",
   "name": "python3"
  },
  "language_info": {
   "codemirror_mode": {
    "name": "ipython",
    "version": 3
   },
   "file_extension": ".py",
   "mimetype": "text/x-python",
   "name": "python",
   "nbconvert_exporter": "python",
   "pygments_lexer": "ipython3",
   "version": "3.9.13"
  }
 },
 "nbformat": 4,
 "nbformat_minor": 2
}
