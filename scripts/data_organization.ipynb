{
 "cells": [
  {
   "cell_type": "markdown",
   "metadata": {},
   "source": [
    "# **DATA ORGANIZATION**\n",
    "\n",
    "this script will be used for organizing the data/feature engineering and writing other .csv/xslx files as needed\n",
    "\n",
    "NOTE: the orginal datafile will not be saved in this repository as it contains confidential location information...each location will be assigned a number, and we will keep track of this list internally, however this number will not be used in the algorithms as a feature"
   ]
  },
  {
   "cell_type": "code",
   "execution_count": 1,
   "metadata": {},
   "outputs": [],
   "source": [
    "%load_ext autoreload\n",
    "%autoreload 2"
   ]
  },
  {
   "cell_type": "code",
   "execution_count": 2,
   "metadata": {},
   "outputs": [],
   "source": [
    "#imports and get raw data file\n",
    "import pandas as pd\n",
    "import numpy as np\n",
    "import funcs\n",
    "from sklearn.preprocessing import StandardScaler\n",
    "scaler = StandardScaler()\n",
    "\n",
    "#note that 'private_name' is the associated secret number for the different locations\n",
    "df = pd.read_csv('../data/raw_data.csv')"
   ]
  },
  {
   "cell_type": "code",
   "execution_count": 3,
   "metadata": {},
   "outputs": [
    {
     "name": "stderr",
     "output_type": "stream",
     "text": [
      "/var/folders/31/n7d1lkjj6y1_lcp76m8nrtbh0000gn/T/ipykernel_59026/3501118778.py:21: UserWarning: Boolean Series key will be reindexed to match DataFrame index.\n",
      "  df_feature_rows = df_feature_rows[df_feature_rows['drainage_class'].notnull() & df['soil_halflife'].notnull()]\n"
     ]
    }
   ],
   "source": [
    "'''\n",
    "IMPORTANT NOTES/ASSUMPTIONS: \n",
    "- many of the tests are for other soil/water parameters (pH, electrical conductivity, etc) so we want to extract just pesticide tests...\n",
    "\n",
    "- to be thorough, the DEC tested for numerous pesticides on each sample, many of which were not applied, resulting in lots of important \n",
    "  but unusable data where there is no detectable amount\n",
    "\n",
    "- many farmers/pesticide appliers provided us information on which pesticides they used...the df includes a 'wasused' column that will be\n",
    "  utilized to extract the usable feature...however many pesticides were detectable in cases where we did not think it was applied, so it\n",
    "  is ASSUMED that the pesticide was applied somewhere in close proximity, perhaps upstream or maybe there was errors in communication with the\n",
    "  farmers/pesticide appliers\n",
    "\n",
    "- FEATURE ENGINEERING: all nan results are considered zero...the pesticide was not detected\n",
    "\n",
    "'''\n",
    "df['result'] = df['result'].fillna(0)\n",
    "pd.to_numeric(df['result'])\n",
    "\n",
    "#this contains all feature rows to be put into algorithms\n",
    "df_feature_rows = df[np.logical_or(df['wasused'] != 'no', df['koc'].notnull() & df['result'] > 0, df['kfoc'].notnull() & df['result'] > 0)]\n",
    "df_feature_rows = df_feature_rows[df_feature_rows['drainage_class'].notnull() & df['soil_halflife'].notnull()]\n",
    "df_feature_rows = df_feature_rows[df_feature_rows['parameter'] != 'Sulfur']"
   ]
  },
  {
   "cell_type": "code",
   "execution_count": 4,
   "metadata": {},
   "outputs": [],
   "source": [
    "'''\n",
    "- theoretically, the organic carbon-water partition coefficient ('koc' column) and the organic carbon-water normalized Freundlich distribution \n",
    "  coefficient will be treated as the same\n",
    "\n",
    "- this loop combines the columns, choosing koc first if it is available\n",
    "'''\n",
    "pcoef = []\n",
    "for idx, row in df_feature_rows.iterrows():\n",
    "    if row['koc'] > 0 :\n",
    "        pcoef += [float(row['koc'])]\n",
    "    else :\n",
    "        pcoef += [float(row['kfoc'])]\n",
    "\n",
    "df_feature_rows['pcoef'] = pcoef"
   ]
  },
  {
   "cell_type": "code",
   "execution_count": 5,
   "metadata": {},
   "outputs": [],
   "source": [
    "#extract all current columns of interest to be put into algorithms...NOT FINAL\n",
    "col_list = ['private_name', 'loctype', 'aquifer_vulnerability', 'drainage_class', 'sampdate', 'parameter', 'soil_halflife', 'simphalflife', 'morehalflives', 'pcoef', 'simpsorp', 'simpsorp2', 'result', 'simpresult']\n",
    "\n"
   ]
  },
  {
   "cell_type": "code",
   "execution_count": 6,
   "metadata": {},
   "outputs": [],
   "source": [
    "#get all columns of interest\n",
    "df_cols = df_feature_rows.loc[:, col_list]\n",
    "\n",
    "#replace all instances of 'well drained' to 'Well drained'\n",
    "df_cols.replace(to_replace='well drained', value='Well drained', inplace = True)\n",
    "\n",
    "#add a 'detected' column if result > 0\n",
    "#1 if detected, -1 if not\n",
    "for idx, row in df_cols.iterrows():\n",
    "    if df_cols.loc[idx, 'result'] > 0:\n",
    "        df_cols.at[idx, 'detected'] = 1\n",
    "    else:\n",
    "        df_cols.at[idx, 'detected'] = -1\n",
    "\n"
   ]
  },
  {
   "cell_type": "code",
   "execution_count": 7,
   "metadata": {},
   "outputs": [],
   "source": [
    "#reset index\n",
    "#test_y = detected[t:].reset_index().iloc[:,1:]\n",
    "df_reset = df_cols.reset_index().iloc[:,1:]"
   ]
  },
  {
   "cell_type": "code",
   "execution_count": 8,
   "metadata": {},
   "outputs": [],
   "source": [
    "#setup final dataframe\n",
    "#for now, working with all raw numbers and not pre-decided categories\n",
    "onehot_cols = ['loctype', 'aquifer_vulnerability', 'drainage_class']\n",
    "raw_cols = ['soil_halflife', 'pcoef']\n",
    "\n",
    "#normalize raw values\n",
    "norm = scaler.fit_transform(df_reset.loc[:, raw_cols])\n",
    "norm = round(pd.DataFrame(norm, columns = raw_cols), 3)\n",
    "\n",
    "#onehot categorical\n",
    "df_onehot = funcs.onehot(df=df_reset, columns = onehot_cols)\n",
    "df_final = pd.concat([df_onehot, norm], axis = 1)\n",
    "\n",
    "#append offset and re-add detected column\n",
    "df_final['offset'] = np.ones((df_cols.shape[0]))\n",
    "df_final['detected'] = df_reset['detected']\n"
   ]
  },
  {
   "cell_type": "code",
   "execution_count": 9,
   "metadata": {},
   "outputs": [],
   "source": [
    "#write df_final as csv for future use\n",
    "df_final.to_csv(path_or_buf = '../data/df_final.csv', sep = ',')"
   ]
  }
 ],
 "metadata": {
  "kernelspec": {
   "display_name": "base",
   "language": "python",
   "name": "python3"
  },
  "language_info": {
   "codemirror_mode": {
    "name": "ipython",
    "version": 3
   },
   "file_extension": ".py",
   "mimetype": "text/x-python",
   "name": "python",
   "nbconvert_exporter": "python",
   "pygments_lexer": "ipython3",
   "version": "3.9.13"
  }
 },
 "nbformat": 4,
 "nbformat_minor": 2
}
