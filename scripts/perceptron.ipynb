{
 "cells": [
  {
   "cell_type": "markdown",
   "metadata": {},
   "source": [
    "# **PERCEPTRON**\n",
    "\n",
    "this script is for setup, execution, and evaluation of the perceptron algorithm"
   ]
  },
  {
   "cell_type": "code",
   "execution_count": 26,
   "metadata": {},
   "outputs": [],
   "source": [
    "%load_ext autoreload\n",
    "%autoreload 2"
   ]
  },
  {
   "cell_type": "code",
   "execution_count": 1,
   "metadata": {},
   "outputs": [
    {
     "data": {
      "text/plain": [
       "\"df_final.rename(columns={'Unnamed: 0' : 'index'}, inplace=True)\\ndf_final.set_index(df_final['index'], inplace=True, )\""
      ]
     },
     "execution_count": 1,
     "metadata": {},
     "output_type": "execute_result"
    }
   ],
   "source": [
    "'''\n",
    "Import data from data_organization.ipynb\n",
    "'''\n",
    "import pandas as pd\n",
    "import numpy as np\n",
    "import funcs as f\n",
    "\n",
    "df_final = pd.read_csv('../data/df_final.csv').drop('Unnamed: 0', axis = 1)\n",
    "'''df_final.rename(columns={'Unnamed: 0' : 'index'}, inplace=True)\n",
    "df_final.set_index(df_final['index'], inplace=True, )'''"
   ]
  },
  {
   "cell_type": "code",
   "execution_count": 2,
   "metadata": {},
   "outputs": [
    {
     "name": "stdout",
     "output_type": "stream",
     "text": [
      "92.73\n",
      "92.73\n",
      "95.45\n",
      "Average Accuracy: 85.55%\n",
      "Largest Accuracy: 95.45%\n",
      "Smallest Accuracy: 54.55%\n"
     ]
    }
   ],
   "source": [
    "'''\n",
    "run perceptron for 100 different random combinations of train/test\n",
    "save the best weight vector and use it later...\n",
    "'''\n",
    "#run the test for 30 different random numbers at np.random.seed()\n",
    "avg_accuracy = []\n",
    "for i in range(100):\n",
    "    np.random.seed(8)\n",
    "    df_final=df_final.sample(frac=1) \n",
    "    train_proportion = 0.8 \n",
    "    n = len(df_final)\n",
    "    t = int(train_proportion * n)\n",
    "\n",
    "    #separate features and target\n",
    "    detected = df_final['detected']\n",
    "    features = df_final.loc[:, ~df_final.columns.isin(['detected'])]\n",
    "\n",
    "    #features in training set\n",
    "    train_x = features.iloc[:t,:].reset_index().iloc[:,1:]\n",
    "    #features in test set\n",
    "    test_x = features.iloc[t:,:].reset_index().iloc[:,1:]\n",
    "    #targets in train set\n",
    "    train_y = detected[:t].reset_index().iloc[:,1:]\n",
    "    #targets in test set\n",
    "    test_y = detected[t:].reset_index().iloc[:,1:]\n",
    "\n",
    "\n",
    "    '''\n",
    "    run perceptron!\n",
    "    '''\n",
    "    w = f.perceptron(X=train_x, y = train_y)# maxchecks= 50000, maxiters = 50000)#, maxchecks = 500000, maxiters = 500000)\n",
    "\n",
    "\n",
    "    '''\n",
    "    calculate losses\n",
    "    '''\n",
    "    losses = 0\n",
    "    test_losses = 0\n",
    "    train_losses = 0\n",
    "    for idx, row in test_x.iterrows():\n",
    "        result = f.sign(np.dot(w, row))\n",
    "\n",
    "        if result != test_y.iloc[idx,0]:\n",
    "            losses += 1\n",
    "\n",
    "    avg_accuracy = np.append(round((1 - losses / len(test_x)) * 100, 2), avg_accuracy)\n",
    "    \n",
    "    if avg_accuracy[0] >= np.max(avg_accuracy):\n",
    "        w_best = w\n",
    "        print(avg_accuracy[0])\n",
    "\n",
    "print('Average Accuracy: ' + str(round(np.mean(avg_accuracy),2)) + '%' )\n",
    "print('Largest Accuracy: ' + str(round(np.max(avg_accuracy),2)) + '%' )\n",
    "print('Smallest Accuracy: ' + str(round(np.min(avg_accuracy),2)) + '%' )\n",
    "    "
   ]
  },
  {
   "cell_type": "code",
   "execution_count": 141,
   "metadata": {},
   "outputs": [
    {
     "name": "stdout",
     "output_type": "stream",
     "text": [
      "Average Accuracy: 90.51%\n",
      "Largest Accuracy: 90.51%\n",
      "Smallest Accuracy: 90.51%\n"
     ]
    }
   ],
   "source": [
    "''' \n",
    "now test w_best on different test sets of half the data size\n",
    "'''\n",
    "avg_accuracy = []\n",
    "for i in range(100):\n",
    "    np.random.seed(8)\n",
    "    df_final=df_final.sample(frac=1) \n",
    "    train_proportion = .5\n",
    "    n = len(df_final)\n",
    "    t = int(train_proportion * n)\n",
    "\n",
    "    #separate features and target\n",
    "    detected = df_final['detected']\n",
    "    features = df_final.loc[:, ~df_final.columns.isin(['detected'])]\n",
    "\n",
    "    #features in test set\n",
    "    post_test_x = features.iloc[t:,:].reset_index().iloc[:,1:]\n",
    "    #targets in test set\n",
    "    post_test_y = detected[t:].reset_index().iloc[:,1:]\n",
    "\n",
    "    '''\n",
    "    calculate losses\n",
    "    '''\n",
    "    #0-1 loss\n",
    "    losses = 0\n",
    "    for idx, row in post_test_x.iterrows():\n",
    "        result = f.sign(np.dot(w_best, row))\n",
    "\n",
    "        if result != post_test_y.iloc[idx,0]:\n",
    "            losses += 1\n",
    "\n",
    "    post_avg_accuracy = np.append(round((1 - losses / len(post_test_x)) * 100, 2), avg_accuracy)\n",
    "    \n",
    "print('Average Accuracy: ' + str(round(np.mean(post_avg_accuracy),2)) + '%' )\n",
    "print('Largest Accuracy: ' + str(round(np.max(post_avg_accuracy),2)) + '%' )\n",
    "print('Smallest Accuracy: ' + str(round(np.min(post_avg_accuracy),2)) + '%' )\n"
   ]
  },
  {
   "cell_type": "code",
   "execution_count": 96,
   "metadata": {},
   "outputs": [
    {
     "ename": "ValueError",
     "evalue": "zero-size array to reduction operation maximum which has no identity",
     "output_type": "error",
     "traceback": [
      "\u001b[0;31m---------------------------------------------------------------------------\u001b[0m",
      "\u001b[0;31mValueError\u001b[0m                                Traceback (most recent call last)",
      "\u001b[0;32m/var/folders/31/n7d1lkjj6y1_lcp76m8nrtbh0000gn/T/ipykernel_50839/2808562171.py\u001b[0m in \u001b[0;36m<module>\u001b[0;34m\u001b[0m\n\u001b[1;32m      1\u001b[0m \u001b[0myo\u001b[0m \u001b[0;34m=\u001b[0m \u001b[0;34m[\u001b[0m\u001b[0;34m]\u001b[0m\u001b[0;34m\u001b[0m\u001b[0;34m\u001b[0m\u001b[0m\n\u001b[0;32m----> 2\u001b[0;31m \u001b[0mavg_accuracy\u001b[0m\u001b[0;34m[\u001b[0m\u001b[0;36m0\u001b[0m\u001b[0;34m]\u001b[0m \u001b[0;34m>\u001b[0m \u001b[0mnp\u001b[0m\u001b[0;34m.\u001b[0m\u001b[0mmax\u001b[0m\u001b[0;34m(\u001b[0m\u001b[0myo\u001b[0m\u001b[0;34m)\u001b[0m\u001b[0;34m\u001b[0m\u001b[0;34m\u001b[0m\u001b[0m\n\u001b[0m",
      "\u001b[0;32m~/opt/anaconda3/lib/python3.9/site-packages/numpy/core/overrides.py\u001b[0m in \u001b[0;36mamax\u001b[0;34m(*args, **kwargs)\u001b[0m\n",
      "\u001b[0;32m~/opt/anaconda3/lib/python3.9/site-packages/numpy/core/fromnumeric.py\u001b[0m in \u001b[0;36mamax\u001b[0;34m(a, axis, out, keepdims, initial, where)\u001b[0m\n\u001b[1;32m   2818\u001b[0m     \u001b[0;36m5\u001b[0m\u001b[0;34m\u001b[0m\u001b[0;34m\u001b[0m\u001b[0m\n\u001b[1;32m   2819\u001b[0m     \"\"\"\n\u001b[0;32m-> 2820\u001b[0;31m     return _wrapreduction(a, np.maximum, 'max', axis, None, out,\n\u001b[0m\u001b[1;32m   2821\u001b[0m                           keepdims=keepdims, initial=initial, where=where)\n\u001b[1;32m   2822\u001b[0m \u001b[0;34m\u001b[0m\u001b[0m\n",
      "\u001b[0;32m~/opt/anaconda3/lib/python3.9/site-packages/numpy/core/fromnumeric.py\u001b[0m in \u001b[0;36m_wrapreduction\u001b[0;34m(obj, ufunc, method, axis, dtype, out, **kwargs)\u001b[0m\n\u001b[1;32m     84\u001b[0m                 \u001b[0;32mreturn\u001b[0m \u001b[0mreduction\u001b[0m\u001b[0;34m(\u001b[0m\u001b[0maxis\u001b[0m\u001b[0;34m=\u001b[0m\u001b[0maxis\u001b[0m\u001b[0;34m,\u001b[0m \u001b[0mout\u001b[0m\u001b[0;34m=\u001b[0m\u001b[0mout\u001b[0m\u001b[0;34m,\u001b[0m \u001b[0;34m**\u001b[0m\u001b[0mpasskwargs\u001b[0m\u001b[0;34m)\u001b[0m\u001b[0;34m\u001b[0m\u001b[0;34m\u001b[0m\u001b[0m\n\u001b[1;32m     85\u001b[0m \u001b[0;34m\u001b[0m\u001b[0m\n\u001b[0;32m---> 86\u001b[0;31m     \u001b[0;32mreturn\u001b[0m \u001b[0mufunc\u001b[0m\u001b[0;34m.\u001b[0m\u001b[0mreduce\u001b[0m\u001b[0;34m(\u001b[0m\u001b[0mobj\u001b[0m\u001b[0;34m,\u001b[0m \u001b[0maxis\u001b[0m\u001b[0;34m,\u001b[0m \u001b[0mdtype\u001b[0m\u001b[0;34m,\u001b[0m \u001b[0mout\u001b[0m\u001b[0;34m,\u001b[0m \u001b[0;34m**\u001b[0m\u001b[0mpasskwargs\u001b[0m\u001b[0;34m)\u001b[0m\u001b[0;34m\u001b[0m\u001b[0;34m\u001b[0m\u001b[0m\n\u001b[0m\u001b[1;32m     87\u001b[0m \u001b[0;34m\u001b[0m\u001b[0m\n\u001b[1;32m     88\u001b[0m \u001b[0;34m\u001b[0m\u001b[0m\n",
      "\u001b[0;31mValueError\u001b[0m: zero-size array to reduction operation maximum which has no identity"
     ]
    }
   ],
   "source": []
  }
 ],
 "metadata": {
  "kernelspec": {
   "display_name": "base",
   "language": "python",
   "name": "python3"
  },
  "language_info": {
   "codemirror_mode": {
    "name": "ipython",
    "version": 3
   },
   "file_extension": ".py",
   "mimetype": "text/x-python",
   "name": "python",
   "nbconvert_exporter": "python",
   "pygments_lexer": "ipython3",
   "version": "3.9.13"
  }
 },
 "nbformat": 4,
 "nbformat_minor": 2
}
