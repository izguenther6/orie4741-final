{
 "cells": [
  {
   "cell_type": "markdown",
   "metadata": {},
   "source": [
    "# **PERCEPTRON**\n",
    "\n",
    "this script is for setup, execution, and evaluation of the perceptron algorithm"
   ]
  },
  {
   "cell_type": "code",
   "execution_count": 1,
   "metadata": {},
   "outputs": [],
   "source": [
    "%load_ext autoreload\n",
    "%autoreload 2"
   ]
  },
  {
   "cell_type": "code",
   "execution_count": 1,
   "metadata": {},
   "outputs": [],
   "source": [
    "'''\n",
    "Import data from data_organization.ipynb\n",
    "'''\n",
    "import pandas as pd\n",
    "import numpy as np\n",
    "import funcs as f\n",
    "\n",
    "df_all = pd.read_csv('../data/df_all.csv').drop('Unnamed: 0', axis = 1)\n",
    "df_gus = pd.read_csv('../data/df_gus.csv').drop('Unnamed: 0', axis = 1)\n",
    "df_tgus = pd.read_csv('../data/df_tgus.csv').drop('Unnamed: 0', axis = 1)\n",
    "df_tgus_st = pd.read_csv('../data/df_tgus*.csv').drop('Unnamed: 0', axis = 1)\n",
    "df_raw = pd.read_csv('../data/df_raw.csv').drop('Unnamed: 0', axis = 1)"
   ]
  },
  {
   "cell_type": "code",
   "execution_count": 6,
   "metadata": {},
   "outputs": [
    {
     "name": "stdout",
     "output_type": "stream",
     "text": [
      "90.24\n",
      "90.24\n",
      "93.9\n",
      "93.9\n",
      "96.34\n",
      "96.34\n",
      "96.34\n",
      "96.34\n",
      "Average Accuracy: 87.75%\n",
      "Highest Accuracy: 96.34%\n",
      "Lowest Accuracy: 68.29%\n"
     ]
    }
   ],
   "source": [
    "'''\n",
    "run perceptron for 100 different random combinations of train/test\n",
    "save the best weight vector and use it later...\n",
    "'''\n",
    "#run the test for 30 different random numbers at np.random.seed()\n",
    "avg_accuracy = []\n",
    "for i in range(100):\n",
    "    np.random.seed(8)\n",
    "    df_final=df_final.sample(frac=1) \n",
    "    train_proportion = 0.8 \n",
    "    n = len(df_final)\n",
    "    t = int(train_proportion * n)\n",
    "\n",
    "    #separate features and target\n",
    "    detected = df_final['detected']\n",
    "    features = df_final.loc[:, ~df_final.columns.isin(['detected'])]\n",
    "\n",
    "    #features in training set\n",
    "    train_x = features.iloc[:t,:].reset_index().iloc[:,1:]\n",
    "    #features in test set\n",
    "    test_x = features.iloc[t:,:].reset_index().iloc[:,1:]\n",
    "    #targets in train set\n",
    "    train_y = detected[:t].reset_index().iloc[:,1:]\n",
    "    #targets in test set\n",
    "    test_y = detected[t:].reset_index().iloc[:,1:]\n",
    "\n",
    "\n",
    "    '''\n",
    "    run perceptron!\n",
    "    '''\n",
    "    w = f.perceptron(X=train_x, y = train_y)# maxchecks= 50000, maxiters = 50000)#, maxchecks = 500000, maxiters = 500000)\n",
    "\n",
    "\n",
    "    '''\n",
    "    calculate losses\n",
    "    '''\n",
    "    losses = 0\n",
    "    test_losses = 0\n",
    "    train_losses = 0\n",
    "    for idx, row in test_x.iterrows():\n",
    "        result = f.sign(np.dot(w, row))\n",
    "\n",
    "        if result != test_y.iloc[idx,0]:\n",
    "            losses += 1\n",
    "\n",
    "    avg_accuracy = np.append(round((1 - losses / len(test_x)) * 100, 2), avg_accuracy)\n",
    "    \n",
    "    if avg_accuracy[0] >= np.max(avg_accuracy):\n",
    "        print(avg_accuracy[0])\n",
    "        w_best = w\n",
    "\n",
    "print('Average Accuracy: ' + str(round(np.mean(avg_accuracy),2)) + '%' )\n",
    "print('Highest Accuracy: ' + str(round(np.max(avg_accuracy),2)) + '%' )\n",
    "print('Lowest Accuracy: ' + str(round(np.min(avg_accuracy),2)) + '%' )\n",
    "    "
   ]
  },
  {
   "cell_type": "code",
   "execution_count": 7,
   "metadata": {},
   "outputs": [
    {
     "name": "stdout",
     "output_type": "stream",
     "text": [
      "Average Accuracy: 87.83%\n",
      "Highest Accuracy: 91.13%\n",
      "Lowest Accuracy: 84.73%\n"
     ]
    }
   ],
   "source": [
    "''' \n",
    "now test w_best on different test sets of half the data size\n",
    "'''\n",
    "post_avg_accuracy = []\n",
    "for i in range(100):\n",
    "    np.random.seed(8)\n",
    "    df_final=df_final.sample(frac=1) \n",
    "    train_proportion = .5\n",
    "    n = len(df_final)\n",
    "    t = int(train_proportion * n)\n",
    "\n",
    "    #separate features and target\n",
    "    detected = df_final['detected']\n",
    "    features = df_final.loc[:, ~df_final.columns.isin(['detected'])]\n",
    "\n",
    "    #features in test set\n",
    "    post_test_x = features.iloc[t:,:].reset_index().iloc[:,1:]\n",
    "    #targets in test set\n",
    "    post_test_y = detected[t:].reset_index().iloc[:,1:]\n",
    "\n",
    "    '''\n",
    "    calculate losses\n",
    "    '''\n",
    "    #0-1 loss\n",
    "    losses = 0\n",
    "    for idx, row in post_test_x.iterrows():\n",
    "        result = f.sign(np.dot(w_best, row))\n",
    "\n",
    "        if result != post_test_y.iloc[idx,0]:\n",
    "            losses += 1\n",
    "            \n",
    "    post_avg_accuracy = np.append(round((1 - losses / len(post_test_x)) * 100, 2), post_avg_accuracy)\n",
    "    \n",
    "print('Average Accuracy: ' + str(round(np.mean(post_avg_accuracy),2)) + '%' )\n",
    "print('Highest Accuracy: ' + str(round(np.max(post_avg_accuracy),2)) + '%' )\n",
    "print('Lowest Accuracy: ' + str(round(np.min(post_avg_accuracy),2)) + '%' )\n"
   ]
  }
 ],
 "metadata": {
  "kernelspec": {
   "display_name": "base",
   "language": "python",
   "name": "python3"
  },
  "language_info": {
   "codemirror_mode": {
    "name": "ipython",
    "version": 3
   },
   "file_extension": ".py",
   "mimetype": "text/x-python",
   "name": "python",
   "nbconvert_exporter": "python",
   "pygments_lexer": "ipython3",
   "version": "3.9.13"
  }
 },
 "nbformat": 4,
 "nbformat_minor": 2
}
